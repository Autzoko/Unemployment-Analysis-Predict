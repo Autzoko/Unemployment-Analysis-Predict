{
 "cells": [
  {
   "cell_type": "code",
   "execution_count": 1,
   "id": "a1838c02-0596-4927-ae68-566fff0a29f4",
   "metadata": {},
   "outputs": [
    {
     "name": "stdout",
     "output_type": "stream",
     "text": [
      "Defaulting to user installation because normal site-packages is not writeable\n",
      "Requirement already satisfied: pmdarima in ./.local/lib/python3.12/site-packages (2.0.4)\n",
      "Requirement already satisfied: joblib>=0.11 in /opt/conda/envs/csgyd-6513-spring/lib/python3.12/site-packages (from pmdarima) (1.4.2)\n",
      "Requirement already satisfied: Cython!=0.29.18,!=0.29.31,>=0.29 in ./.local/lib/python3.12/site-packages (from pmdarima) (3.0.12)\n",
      "Requirement already satisfied: numpy>=1.21.2 in /opt/conda/envs/csgyd-6513-spring/lib/python3.12/site-packages (from pmdarima) (1.26.4)\n",
      "Requirement already satisfied: pandas>=0.19 in /opt/conda/envs/csgyd-6513-spring/lib/python3.12/site-packages (from pmdarima) (2.2.3)\n",
      "Requirement already satisfied: scikit-learn>=0.22 in /opt/conda/envs/csgyd-6513-spring/lib/python3.12/site-packages (from pmdarima) (1.6.1)\n",
      "Requirement already satisfied: scipy>=1.3.2 in /opt/conda/envs/csgyd-6513-spring/lib/python3.12/site-packages (from pmdarima) (1.15.2)\n",
      "Requirement already satisfied: statsmodels>=0.13.2 in ./.local/lib/python3.12/site-packages (from pmdarima) (0.14.4)\n",
      "Requirement already satisfied: urllib3 in /opt/conda/envs/csgyd-6513-spring/lib/python3.12/site-packages (from pmdarima) (2.3.0)\n",
      "Requirement already satisfied: setuptools!=50.0.0,>=38.6.0 in /opt/conda/envs/csgyd-6513-spring/lib/python3.12/site-packages (from pmdarima) (75.8.2)\n",
      "Requirement already satisfied: packaging>=17.1 in /opt/conda/envs/csgyd-6513-spring/lib/python3.12/site-packages (from pmdarima) (23.2)\n",
      "Requirement already satisfied: python-dateutil>=2.8.2 in /opt/conda/envs/csgyd-6513-spring/lib/python3.12/site-packages (from pandas>=0.19->pmdarima) (2.9.0.post0)\n",
      "Requirement already satisfied: pytz>=2020.1 in /opt/conda/envs/csgyd-6513-spring/lib/python3.12/site-packages (from pandas>=0.19->pmdarima) (2025.1)\n",
      "Requirement already satisfied: tzdata>=2022.7 in /opt/conda/envs/csgyd-6513-spring/lib/python3.12/site-packages (from pandas>=0.19->pmdarima) (2025.1)\n",
      "Requirement already satisfied: threadpoolctl>=3.1.0 in /opt/conda/envs/csgyd-6513-spring/lib/python3.12/site-packages (from scikit-learn>=0.22->pmdarima) (3.5.0)\n",
      "Requirement already satisfied: patsy>=0.5.6 in ./.local/lib/python3.12/site-packages (from statsmodels>=0.13.2->pmdarima) (1.0.1)\n",
      "Requirement already satisfied: six>=1.5 in /opt/conda/envs/csgyd-6513-spring/lib/python3.12/site-packages (from python-dateutil>=2.8.2->pandas>=0.19->pmdarima) (1.17.0)\n",
      "Defaulting to user installation because normal site-packages is not writeable\n",
      "Requirement already satisfied: statsmodels in ./.local/lib/python3.12/site-packages (0.14.4)\n",
      "Requirement already satisfied: numpy<3,>=1.22.3 in /opt/conda/envs/csgyd-6513-spring/lib/python3.12/site-packages (from statsmodels) (1.26.4)\n",
      "Requirement already satisfied: scipy!=1.9.2,>=1.8 in /opt/conda/envs/csgyd-6513-spring/lib/python3.12/site-packages (from statsmodels) (1.15.2)\n",
      "Requirement already satisfied: pandas!=2.1.0,>=1.4 in /opt/conda/envs/csgyd-6513-spring/lib/python3.12/site-packages (from statsmodels) (2.2.3)\n",
      "Requirement already satisfied: patsy>=0.5.6 in ./.local/lib/python3.12/site-packages (from statsmodels) (1.0.1)\n",
      "Requirement already satisfied: packaging>=21.3 in /opt/conda/envs/csgyd-6513-spring/lib/python3.12/site-packages (from statsmodels) (23.2)\n",
      "Requirement already satisfied: python-dateutil>=2.8.2 in /opt/conda/envs/csgyd-6513-spring/lib/python3.12/site-packages (from pandas!=2.1.0,>=1.4->statsmodels) (2.9.0.post0)\n",
      "Requirement already satisfied: pytz>=2020.1 in /opt/conda/envs/csgyd-6513-spring/lib/python3.12/site-packages (from pandas!=2.1.0,>=1.4->statsmodels) (2025.1)\n",
      "Requirement already satisfied: tzdata>=2022.7 in /opt/conda/envs/csgyd-6513-spring/lib/python3.12/site-packages (from pandas!=2.1.0,>=1.4->statsmodels) (2025.1)\n",
      "Requirement already satisfied: six>=1.5 in /opt/conda/envs/csgyd-6513-spring/lib/python3.12/site-packages (from python-dateutil>=2.8.2->pandas!=2.1.0,>=1.4->statsmodels) (1.17.0)\n"
     ]
    }
   ],
   "source": [
    "!pip install pmdarima\n",
    "!pip install statsmodels"
   ]
  },
  {
   "cell_type": "code",
   "execution_count": 2,
   "id": "40b64e0b-c3dd-4302-b365-e783f3c7019f",
   "metadata": {},
   "outputs": [],
   "source": [
    "import os\n",
    "import pandas as pd\n",
    "import pmdarima as pm\n",
    "from pyspark.sql import SparkSession\n",
    "from pyspark.sql.functions import col\n",
    "import statsmodels.api as sm"
   ]
  },
  {
   "cell_type": "code",
   "execution_count": null,
   "id": "8852a091-f422-447d-b664-62974b3f8bf7",
   "metadata": {},
   "outputs": [
    {
     "name": "stderr",
     "output_type": "stream",
     "text": [
      "Setting default log level to \"WARN\".\n",
      "To adjust logging level use sc.setLogLevel(newLevel). For SparkR, use setLogLevel(newLevel).\n",
      "25/04/27 23:00:33 WARN NativeCodeLoader: Unable to load native-hadoop library for your platform... using builtin-java classes where applicable\n",
      "                                                                                \r"
     ]
    }
   ],
   "source": [
    "# Step 0: Initialize Spark\n",
    "spark = SparkSession.builder \\\n",
    "    .appName(\"UnemploymentForecast\") \\\n",
    "    .master(\"local[*]\") \\\n",
    "    .config(\"spark.driver.memory\", \"4g\") \\\n",
    "    .getOrCreate()\n",
    "\n",
    "# Read the large file (all_filtered_data.txt)\n",
    "data_path = \"all_filtered_data.txt\"\n",
    "df = spark.read.csv(data_path, sep='\\t', header=True, inferSchema=True)\n"
   ]
  },
  {
   "cell_type": "code",
   "execution_count": 4,
   "id": "577ecf4e-d281-43d0-bf3d-e63272c3eabf",
   "metadata": {},
   "outputs": [
    {
     "data": {
      "text/plain": [
       "['series_id', 'year', 'period', 'value', 'footnote_codes', 'state_name']"
      ]
     },
     "execution_count": 4,
     "metadata": {},
     "output_type": "execute_result"
    }
   ],
   "source": [
    "df.columns"
   ]
  },
  {
   "cell_type": "code",
   "execution_count": null,
   "id": "5b6803df-48de-4ae2-aa0d-96578550f3a2",
   "metadata": {},
   "outputs": [],
   "source": [
    "# Register the DataFrame as a temporary SQL table\n",
    "df.createOrReplaceTempView(\"unemployment_data\")\n",
    "print(\"Data loaded. Starting processing.\")\n",
    "\n",
    "# Retrieve distinct state names\n",
    "state_names = spark.sql(\"\"\"\n",
    "    SELECT DISTINCT state_name\n",
    "    FROM unemployment_data\n",
    "\"\"\").collect()\n",
    "\n",
    "# Extract state names from rows\n",
    "state_names = [row['state_name'] for row in state_names]\n",
    "\n",
    "print(f\"Found {len(state_names)} states.\")\n",
    "state_names\n"
   ]
  },
  {
   "cell_type": "code",
   "execution_count": null,
   "id": "fb6a1e1e-e10d-4dc4-9fca-8714dc992196",
   "metadata": {},
   "outputs": [
    {
     "name": "stderr",
     "output_type": "stream",
     "text": [
      "                                                                                \r"
     ]
    }
   ],
   "source": [
    "full_df = df.select('year', 'period', 'value', 'series_id', 'state_name').toPandas()\n",
    "grouped = full_df.groupby('state_name')\n",
    "grouped"
   ]
  },
  {
   "cell_type": "code",
   "execution_count": null,
   "id": "c6d5a905-4f17-4943-bd5e-625ce79da7f7",
   "metadata": {},
   "outputs": [],
   "source": [
    "all_forecasts = []\n",
    "\n",
    "for state in state_names:\n",
    "    state_df = spark.sql(f\"\"\"\n",
    "        SELECT year, period, value, series_id\n",
    "        FROM unemployment_data\n",
    "        WHERE state_name = '{state}'\n",
    "        ORDER BY year ASC, period ASC\n",
    "    \"\"\")\n",
    "    \n",
    "    pandas_df = state_df.toPandas()\n",
    "    \n",
    "    if pandas_df.empty:\n",
    "        print(f\"{state} data is empty, skipping.\")\n",
    "        continue\n",
    "    \n",
    "    pandas_df['period'] = pandas_df['period'].str.replace('M', '')\n",
    "    pandas_df['month'] = pandas_df['period'].astype(int)\n",
    "    pandas_df = pandas_df[pandas_df['month'] != 13]\n",
    "    \n",
    "    pandas_df['timestamp'] = pd.to_datetime(\n",
    "        pandas_df['year'].astype(str) + '-' + pandas_df['month'].astype(str) + '-01',\n",
    "        format='%Y-%m-%d'\n",
    "    )\n",
    "    pandas_df = pandas_df.sort_values('timestamp')\n",
    "    \n",
    "    pandas_df['value'] = pd.to_numeric(pandas_df['value'], errors='coerce')\n",
    "    pandas_df = pandas_df.dropna(subset=['value'])\n",
    "    \n",
    "    try:\n",
    "        # Step 3: Fit ARIMA model and forecast the next 12 months\n",
    "        model = sm.tsa.ARIMA(\n",
    "            pandas_df['value'],\n",
    "            order=(1, 1, 1),\n",
    "            seasonal_order=(1, 1, 1, 12)\n",
    "        ).fit()\n",
    "        \n",
    "        n_periods = 12\n",
    "        forecast = model.forecast(steps=n_periods)\n",
    "        \n",
    "        last_timestamp = pandas_df['timestamp'].max()\n",
    "        future_dates = pd.date_range(last_timestamp + pd.offsets.MonthBegin(1), periods=n_periods, freq='MS')\n",
    "        \n",
    "        series_id = pandas_df['series_id'].iloc[0]\n",
    "        \n",
    "        forecast_df = pd.DataFrame({\n",
    "            'series_id': [series_id] * n_periods,\n",
    "            'year': future_dates.year,\n",
    "            'period': ['M' + str(month).zfill(2) for month in future_dates.month],\n",
    "            'value': forecast,\n",
    "            'state_name': [state] * n_periods\n",
    "        })\n",
    "        \n",
    "        print(f\"{state} forecast completed.\")\n",
    "        save_path = f\"result/{state}_predict.csv\"\n",
    "        forecast_df.to_csv(save_path, index=False)\n",
    "        \n",
    "        print(f\"Result saved to: {save_path}\")\n",
    "        \n",
    "    except Exception as e:\n",
    "        print(f\"{state} ARIMA modeling failed, skipping. Error: {e}\")\n"
   ]
  },
  {
   "cell_type": "code",
   "execution_count": null,
   "id": "bfa1a3fa-e610-45cb-b323-181e0860ea29",
   "metadata": {},
   "outputs": [],
   "source": []
  }
 ],
 "metadata": {
  "kernelspec": {
   "display_name": "Python [conda env:csgyd-6513-spring]",
   "language": "python",
   "name": "conda-env-csgyd-6513-spring-py"
  },
  "language_info": {
   "codemirror_mode": {
    "name": "ipython",
    "version": 3
   },
   "file_extension": ".py",
   "mimetype": "text/x-python",
   "name": "python",
   "nbconvert_exporter": "python",
   "pygments_lexer": "ipython3",
   "version": "3.12.9"
  }
 },
 "nbformat": 4,
 "nbformat_minor": 5
}
